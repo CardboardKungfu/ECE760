{
 "cells": [
  {
   "cell_type": "code",
   "execution_count": 3,
   "metadata": {},
   "outputs": [
    {
     "data": {
      "text/html": [
       "<div>\n",
       "<style scoped>\n",
       "    .dataframe tbody tr th:only-of-type {\n",
       "        vertical-align: middle;\n",
       "    }\n",
       "\n",
       "    .dataframe tbody tr th {\n",
       "        vertical-align: top;\n",
       "    }\n",
       "\n",
       "    .dataframe thead th {\n",
       "        text-align: right;\n",
       "    }\n",
       "</style>\n",
       "<table border=\"1\" class=\"dataframe\">\n",
       "  <thead>\n",
       "    <tr style=\"text-align: right;\">\n",
       "      <th></th>\n",
       "      <th>survived</th>\n",
       "      <th>pclass</th>\n",
       "      <th>sex</th>\n",
       "      <th>age</th>\n",
       "      <th>siblings_spouse</th>\n",
       "      <th>parents_children</th>\n",
       "      <th>fare</th>\n",
       "    </tr>\n",
       "  </thead>\n",
       "  <tbody>\n",
       "    <tr>\n",
       "      <th>0</th>\n",
       "      <td>0</td>\n",
       "      <td>3</td>\n",
       "      <td>0</td>\n",
       "      <td>22.0</td>\n",
       "      <td>1</td>\n",
       "      <td>0</td>\n",
       "      <td>7.2500</td>\n",
       "    </tr>\n",
       "    <tr>\n",
       "      <th>1</th>\n",
       "      <td>1</td>\n",
       "      <td>1</td>\n",
       "      <td>1</td>\n",
       "      <td>38.0</td>\n",
       "      <td>1</td>\n",
       "      <td>0</td>\n",
       "      <td>71.2833</td>\n",
       "    </tr>\n",
       "    <tr>\n",
       "      <th>2</th>\n",
       "      <td>1</td>\n",
       "      <td>3</td>\n",
       "      <td>1</td>\n",
       "      <td>26.0</td>\n",
       "      <td>0</td>\n",
       "      <td>0</td>\n",
       "      <td>7.9250</td>\n",
       "    </tr>\n",
       "    <tr>\n",
       "      <th>3</th>\n",
       "      <td>1</td>\n",
       "      <td>1</td>\n",
       "      <td>1</td>\n",
       "      <td>35.0</td>\n",
       "      <td>1</td>\n",
       "      <td>0</td>\n",
       "      <td>53.1000</td>\n",
       "    </tr>\n",
       "    <tr>\n",
       "      <th>4</th>\n",
       "      <td>0</td>\n",
       "      <td>3</td>\n",
       "      <td>0</td>\n",
       "      <td>35.0</td>\n",
       "      <td>0</td>\n",
       "      <td>0</td>\n",
       "      <td>8.0500</td>\n",
       "    </tr>\n",
       "  </tbody>\n",
       "</table>\n",
       "</div>"
      ],
      "text/plain": [
       "   survived  pclass  sex   age  siblings_spouse  parents_children     fare\n",
       "0         0       3    0  22.0                1                 0   7.2500\n",
       "1         1       1    1  38.0                1                 0  71.2833\n",
       "2         1       3    1  26.0                0                 0   7.9250\n",
       "3         1       1    1  35.0                1                 0  53.1000\n",
       "4         0       3    0  35.0                0                 0   8.0500"
      ]
     },
     "execution_count": 3,
     "metadata": {},
     "output_type": "execute_result"
    }
   ],
   "source": [
    "import numpy as np\n",
    "import pandas as pd\n",
    "\n",
    "col_names = ['survived', 'pclass', 'sex', 'age', 'siblings_spouse', 'parents_children', 'fare']\n",
    "data = pd.read_csv(\"titanic_data.csv\", skiprows=1, header=None, names=col_names)\n",
    "\n",
    "data.head(5)"
   ]
  },
  {
   "cell_type": "markdown",
   "metadata": {},
   "source": [
    "## Problem 5.1"
   ]
  },
  {
   "cell_type": "code",
   "execution_count": 4,
   "metadata": {},
   "outputs": [],
   "source": [
    "from collections import Counter\n",
    "\n",
    "class KNN:\n",
    "    def __init__(self, k=5):\n",
    "        self.k = k\n",
    "\n",
    "    def set_k(self, k):\n",
    "        self.k = k\n",
    "\n",
    "    def fit(self, X_train, y_train):\n",
    "        self.X_train = X_train\n",
    "        self.y_train = y_train\n",
    "\n",
    "    def predict(self, X_test):\n",
    "        predictions = [self._predict(x) for x in X_test]\n",
    "        return np.array(predictions)\n",
    "\n",
    "    def _predict(self, x):\n",
    "        distances = [np.linalg.norm(x - x_train) for x_train in self.X_train]\n",
    "        k_indices = np.argsort(distances)[:self.k]\n",
    "        if len(k_indices) == 0:  # If no neighbors found, return a default value or handle as needed\n",
    "            return None\n",
    "        k_nearest_labels = [self.y_train[i] for i in k_indices]\n",
    "        most_common = Counter(k_nearest_labels).most_common(1)\n",
    "        return most_common[0][0]"
   ]
  },
  {
   "cell_type": "code",
   "execution_count": 5,
   "metadata": {},
   "outputs": [
    {
     "name": "stdout",
     "output_type": "stream",
     "text": [
      "Predictions:\n",
      "Sample 1: [ 3.    0.   25.    0.    0.    7.05]\n",
      "Result: Died\n",
      "Sample 2: [ 3.  0. 80.  0.  0. 25.]\n",
      "Result: Died\n",
      "Sample 3: [ 3.  0. 61.  1.  1. 25.]\n",
      "Result: Died\n",
      "Sample 4: [ 1.  1. 17.  2.  2. 30.]\n",
      "Result: Survived\n"
     ]
    }
   ],
   "source": [
    "data_np = data.to_numpy()\n",
    "\n",
    "X = data_np[:, 1:]  # Features\n",
    "y = data_np[:, 0]   # Labels\n",
    "\n",
    "# Test data\n",
    "test_features = np.array([\n",
    "    [3, 0, 25.0, 0, 0, 7.05],\n",
    "    [3, 0, 80.0, 0, 0, 25.0],\n",
    "    [3, 0, 61.0, 1, 1, 25.0],\n",
    "    [1, 1, 17.0, 2, 2, 30.0]\n",
    "])\n",
    "\n",
    "# Initialize and set training values in KNN model\n",
    "knn = KNN(k = 5)\n",
    "knn.fit(X, y)\n",
    "\n",
    "# Predictions\n",
    "predictions = knn.predict(test_features)\n",
    "print(\"Predictions:\")\n",
    "for i, pred in enumerate(predictions):\n",
    "    print(f\"Sample {i + 1}:\", test_features[i])\n",
    "    print(\"Result: Survived\" if pred == 1 else \"Result: Died\")"
   ]
  },
  {
   "cell_type": "code",
   "execution_count": 6,
   "metadata": {},
   "outputs": [
    {
     "name": "stdout",
     "output_type": "stream",
     "text": [
      "Predictions: [0. 1. 0. 1.]\n",
      "Predictions: [0. 1. 0. 1.]\n",
      "Predictions: [0. 0. 0. 1.]\n",
      "Predictions: [0. 0. 0. 1.]\n",
      "Predictions: [0. 0. 0. 1.]\n",
      "Predictions: [0. 0. 0. 1.]\n"
     ]
    }
   ],
   "source": [
    "survived_totals = []\n",
    "for i in range(6):\n",
    "    knn.set_k(i + 1)\n",
    "    predictions = knn.predict(test_features)\n",
    "    survived_totals.append(np.sum(predictions))\n",
    "    print(\"Predictions:\", predictions)"
   ]
  },
  {
   "cell_type": "code",
   "execution_count": 7,
   "metadata": {},
   "outputs": [
    {
     "name": "stdout",
     "output_type": "stream",
     "text": [
      "['k=1', 'k=2', 'k=3', 'k=4', 'k=5', 'k=6']\n",
      "[2.0, 2.0, 1.0, 1.0, 1.0, 1.0]\n"
     ]
    },
    {
     "data": {
      "image/png": "[encoded data removed]",
      "text/plain": [
       "<Figure size 640x480 with 1 Axes>"
      ]
     },
     "metadata": {},
     "output_type": "display_data"
    }
   ],
   "source": [
    "import matplotlib.pyplot as plt\n",
    "\n",
    "fig, ax = plt.subplots()\n",
    "x_labels = [f\"k={i + 1}\" for i in range(len(survived_totals))]\n",
    "print(x_labels)\n",
    "print(survived_totals)\n",
    "ax.bar(x_labels, survived_totals)\n",
    "\n",
    "ax.set_ylabel('Total Survivers')\n",
    "ax.set_title('Number of survivers per K nearest neighbors')\n",
    "\n",
    "plt.show()\n"
   ]
  },
  {
   "cell_type": "markdown",
   "metadata": {},
   "source": [
    "## Problem 5.2"
   ]
  },
  {
   "cell_type": "code",
   "execution_count": 8,
   "metadata": {},
   "outputs": [],
   "source": [
    "import numpy as np\n",
    "from sklearn.model_selection import train_test_split\n",
    "\n",
    "class NaiveBayesBernoulli:\n",
    "    def __init__(self):\n",
    "        self.priors = None\n",
    "        self.probabilities = None\n",
    "\n",
    "    def fit(self, X, y):\n",
    "        self.priors = np.zeros(np.max(y) + 1)\n",
    "        self.probabilities = np.zeros((np.max(y) + 1, X.shape[1]))\n",
    "\n",
    "        for label in np.unique(y):\n",
    "            X_label = X[y == label]\n",
    "            self.priors[label] = len(X_label) / len(X)\n",
    "            self.probabilities[label] = np.mean(X_label, axis=0)\n",
    "\n",
    "    def predict(self, X):\n",
    "        posteriors = np.zeros((X.shape[0], len(self.priors)))\n",
    "        \n",
    "        for label in range(len(self.priors)):\n",
    "            probabilities = self.probabilities[label]\n",
    "            likelihood = np.prod(np.where(X, probabilities, 1 - probabilities), axis=1)\n",
    "            posterior = likelihood * self.priors[label]\n",
    "            posteriors[:, label] = posterior\n",
    "        \n",
    "        return np.argmax(posteriors, axis=1)\n",
    "\n",
    "X_train, X_test, y_train, y_test = train_test_split(X, y.astype(int))\n",
    "nb_classifier = NaiveBayesBernoulli()\n",
    "nb_classifier.fit(X_train, y_train)\n",
    "predictions = nb_classifier.predict(X_test)"
   ]
  },
  {
   "cell_type": "code",
   "execution_count": 9,
   "metadata": {},
   "outputs": [
    {
     "name": "stdout",
     "output_type": "stream",
     "text": [
      "Accuracy: 0.7567567567567568\n"
     ]
    }
   ],
   "source": [
    "def accuracy(y_true, y_pred):\n",
    "    correct = np.sum(y_true == y_pred)\n",
    "    total = len(y_true)\n",
    "    return correct / total\n",
    "\n",
    "acc = accuracy(y_test, predictions)\n",
    "print(\"Accuracy:\", acc)\n"
   ]
  },
  {
   "cell_type": "code",
   "execution_count": 10,
   "metadata": {},
   "outputs": [
    {
     "name": "stdout",
     "output_type": "stream",
     "text": [
      "Sample 1: [ 3.    0.   25.    0.    0.    7.05]\n",
      "Result: Died\n",
      "Sample 2: [ 3.  0. 80.  0.  0. 25.]\n",
      "Result: Died\n",
      "Sample 3: [ 3.  0. 61.  1.  1. 25.]\n",
      "Result: Died\n",
      "Sample 4: [ 1.  1. 17.  2.  2. 30.]\n",
      "Result: Survived\n"
     ]
    }
   ],
   "source": [
    "new_predictions = nb_classifier.predict(test_features)\n",
    "for i, pred in enumerate(new_predictions):\n",
    "    print(f\"Sample {i + 1}:\", test_features[i])\n",
    "    print(\"Result: Survived\" if pred == 1 else \"Result: Died\")"
   ]
  },
  {
   "cell_type": "markdown",
   "metadata": {},
   "source": [
    "## Problem 5.4"
   ]
  },
  {
   "cell_type": "code",
   "execution_count": 17,
   "metadata": {},
   "outputs": [
    {
     "name": "stdout",
     "output_type": "stream",
     "text": [
      "Email Predictions:\n",
      "Sample 1: [1 1 1 1 1 0 0 0]\n",
      "Result: Ham\n",
      "Sample 2: [1 1 1 1 1 0 0 1]\n",
      "Result: Ham\n",
      "Sample 3: [1 1 1 1 1 0 1 1]\n",
      "Result: Ham\n"
     ]
    }
   ],
   "source": [
    "columns = [\"label\", \"congratulations\", \"you\", \"won\", \"free\", \"gift\", \"attached\", \"sincerely\", \"thank\"]\n",
    "\n",
    "email_samples = np.array([\n",
    "    [0, 1, 1, 0, 1, 0, 0, 1, 0],\n",
    "    [0, 1, 1, 1, 1, 0, 0, 0, 1],\n",
    "    [0, 1, 1, 1, 1, 1, 1, 1, 0],\n",
    "    [0, 1, 0, 1, 1, 1, 0, 0, 1],\n",
    "    [0, 1, 0, 1, 1, 1, 0, 0, 1],\n",
    "    [0, 0, 0, 1, 1, 1, 0, 1, 0],\n",
    "    [1, 0, 1, 0, 1, 0, 1, 0, 1],\n",
    "    [1, 0, 1, 0, 0, 1, 1, 0, 1],\n",
    "    [1, 0, 0, 0, 0, 0, 1, 1, 0],\n",
    "    [1, 1, 0, 1, 0, 0, 0, 1, 0]\n",
    "    ])\n",
    "\n",
    "X_email = email_samples[:,1:]\n",
    "y_email = email_samples[:, 0]\n",
    "\n",
    "\n",
    "X_train_email, X_test_email, y_train_email, y_test_email = train_test_split(X_email, y_email.astype(int))\n",
    "nb_classifier.fit(X_train_email, y_train_email)\n",
    "email_predictions = nb_classifier.predict(X_test_email)\n",
    "\n",
    "test_emails = np.array([\n",
    "    [1, 1, 1, 1, 1, 0, 0, 0],\n",
    "    [1, 1, 1, 1, 1, 0, 0, 1],\n",
    "    [1, 1, 1, 1, 1, 0, 1, 1],\n",
    "    [1, 1, 1, 1, 1, 1, 1, 1]\n",
    "    ])\n",
    "\n",
    "print(\"Email Predictions:\")\n",
    "for i, pred in enumerate(email_predictions):\n",
    "    print(f\"Sample {i + 1}:\", test_emails[i])\n",
    "    print(\"Result: Spam\" if pred == 0 else \"Result: Ham\")"
   ]
  },
  {
   "cell_type": "code",
   "execution_count": 25,
   "metadata": {},
   "outputs": [
    {
     "name": "stdout",
     "output_type": "stream",
     "text": [
      "[0. 0. 0.]\n",
      "Serial Killer Predictions:\n",
      "Sample 1: [ 42.  180.    5.5]\n",
      "Result: Died\n",
      "Sample 2: [ 30.  170.    5.5]\n",
      "Result: Died\n",
      "Sample 3: [ 25.  150.    4.5]\n",
      "Result: Died\n"
     ]
    }
   ],
   "source": [
    "columns = [\"Shoe Size (cm)\", \"Height (cm)\", \"Max Speed (min/mile)\", \"Sex\"]\n",
    "\n",
    "killer_samples = np.array([\n",
    "    [0, 41, 170, 6.0],\n",
    "    [0, 43, 175, 7.0],\n",
    "    [0, 44, 185, 6.5],\n",
    "    [0, 45, 180, 7.5],\n",
    "    [1, 37, 160, 6.5],\n",
    "    [1, 39, 170, 7.0]\n",
    "])\n",
    "\n",
    "X_killer = killer_samples[:, 1:]\n",
    "y_killer = killer_samples[:, 0]\n",
    "\n",
    "killer_knn = KNN(k = 5)\n",
    "killer_knn.fit(X_killer, y_killer)\n",
    "\n",
    "killer_test = np.array([\n",
    "    [42, 180, 5.5],\n",
    "    [30, 170, 5.5],\n",
    "    [25, 150, 4.5]\n",
    "])\n",
    "\n",
    "# Predictions\n",
    "killer_predictions = killer_knn.predict(killer_test)\n",
    "print(killer_predictions)\n",
    "print(\"Serial Killer Predictions:\")\n",
    "for i, pred in enumerate(killer_predictions):\n",
    "    print(f\"Sample {i + 1}:\", killer_test[i])\n",
    "    print(\"Result: Survived\" if pred == 1 else \"Result: Died\")"
   ]
  }
 ],
 "metadata": {
  "kernelspec": {
   "display_name": "Python 3",
   "language": "python",
   "name": "python3"
  },
  "language_info": {
   "codemirror_mode": {
    "name": "ipython",
    "version": 3
   },
   "file_extension": ".py",
   "mimetype": "text/x-python",
   "name": "python",
   "nbconvert_exporter": "python",
   "pygments_lexer": "ipython3",
   "version": "3.11.7"
  }
 },
 "nbformat": 4,
 "nbformat_minor": 2
}
