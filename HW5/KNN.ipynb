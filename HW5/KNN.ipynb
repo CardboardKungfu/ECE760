{
 "cells": [
  {
   "cell_type": "code",
   "execution_count": 5,
   "metadata": {},
   "outputs": [
    {
     "data": {
      "text/html": [
       "<div>\n",
       "<style scoped>\n",
       "    .dataframe tbody tr th:only-of-type {\n",
       "        vertical-align: middle;\n",
       "    }\n",
       "\n",
       "    .dataframe tbody tr th {\n",
       "        vertical-align: top;\n",
       "    }\n",
       "\n",
       "    .dataframe thead th {\n",
       "        text-align: right;\n",
       "    }\n",
       "</style>\n",
       "<table border=\"1\" class=\"dataframe\">\n",
       "  <thead>\n",
       "    <tr style=\"text-align: right;\">\n",
       "      <th></th>\n",
       "      <th>survived</th>\n",
       "      <th>pclass</th>\n",
       "      <th>sex</th>\n",
       "      <th>age</th>\n",
       "      <th>siblings_spouse</th>\n",
       "      <th>parents_children</th>\n",
       "      <th>fare</th>\n",
       "    </tr>\n",
       "  </thead>\n",
       "  <tbody>\n",
       "    <tr>\n",
       "      <th>0</th>\n",
       "      <td>0</td>\n",
       "      <td>3</td>\n",
       "      <td>0</td>\n",
       "      <td>22.0</td>\n",
       "      <td>1</td>\n",
       "      <td>0</td>\n",
       "      <td>7.2500</td>\n",
       "    </tr>\n",
       "    <tr>\n",
       "      <th>1</th>\n",
       "      <td>1</td>\n",
       "      <td>1</td>\n",
       "      <td>1</td>\n",
       "      <td>38.0</td>\n",
       "      <td>1</td>\n",
       "      <td>0</td>\n",
       "      <td>71.2833</td>\n",
       "    </tr>\n",
       "    <tr>\n",
       "      <th>2</th>\n",
       "      <td>1</td>\n",
       "      <td>3</td>\n",
       "      <td>1</td>\n",
       "      <td>26.0</td>\n",
       "      <td>0</td>\n",
       "      <td>0</td>\n",
       "      <td>7.9250</td>\n",
       "    </tr>\n",
       "    <tr>\n",
       "      <th>3</th>\n",
       "      <td>1</td>\n",
       "      <td>1</td>\n",
       "      <td>1</td>\n",
       "      <td>35.0</td>\n",
       "      <td>1</td>\n",
       "      <td>0</td>\n",
       "      <td>53.1000</td>\n",
       "    </tr>\n",
       "    <tr>\n",
       "      <th>4</th>\n",
       "      <td>0</td>\n",
       "      <td>3</td>\n",
       "      <td>0</td>\n",
       "      <td>35.0</td>\n",
       "      <td>0</td>\n",
       "      <td>0</td>\n",
       "      <td>8.0500</td>\n",
       "    </tr>\n",
       "  </tbody>\n",
       "</table>\n",
       "</div>"
      ],
      "text/plain": [
       "   survived  pclass  sex   age  siblings_spouse  parents_children     fare\n",
       "0         0       3    0  22.0                1                 0   7.2500\n",
       "1         1       1    1  38.0                1                 0  71.2833\n",
       "2         1       3    1  26.0                0                 0   7.9250\n",
       "3         1       1    1  35.0                1                 0  53.1000\n",
       "4         0       3    0  35.0                0                 0   8.0500"
      ]
     },
     "execution_count": 5,
     "metadata": {},
     "output_type": "execute_result"
    }
   ],
   "source": [
    "import numpy as np\n",
    "import pandas as pd\n",
    "\n",
    "col_names = ['survived', 'pclass', 'sex', 'age', 'siblings_spouse', 'parents_children', 'fare']\n",
    "data = pd.read_csv(\"titanic_data.csv\", skiprows=1, header=None, names=col_names)\n",
    "\n",
    "data.head(5)"
   ]
  },
  {
   "cell_type": "markdown",
   "metadata": {},
   "source": [
    "## Problem 5.1"
   ]
  },
  {
   "cell_type": "code",
   "execution_count": 7,
   "metadata": {},
   "outputs": [],
   "source": [
    "from collections import Counter\n",
    "\n",
    "class KNN:\n",
    "    def __init__(self, k=5):\n",
    "        self.k = k\n",
    "\n",
    "    def fit(self, X_train, y_train):\n",
    "        self.X_train = X_train\n",
    "        self.y_train = y_train\n",
    "\n",
    "    def predict(self, X_test):\n",
    "        predictions = [self._predict(x) for x in X_test]\n",
    "        return np.array(predictions)\n",
    "\n",
    "    def _predict(self, x):\n",
    "        distances = [np.linalg.norm(x - x_train) for x_train in self.X_train]\n",
    "        k_indices = np.argsort(distances)[:self.k]\n",
    "        k_nearest_labels = [self.y_train[i] for i in k_indices]\n",
    "        most_common = Counter(k_nearest_labels).most_common(1)\n",
    "        return most_common[0][0]"
   ]
  },
  {
   "cell_type": "code",
   "execution_count": 16,
   "metadata": {},
   "outputs": [
    {
     "name": "stdout",
     "output_type": "stream",
     "text": [
      "Predictions:\n",
      "Sample: [ 3.    0.   25.    0.    0.    7.05]\n",
      "Result: Died X(\n",
      "Sample: [ 1.  1. 17.  2.  2. 30.]\n",
      "Result: Survived\n",
      "Sample: [  1.   1.  12.   0.   0. 125.]\n",
      "Result: Survived\n"
     ]
    }
   ],
   "source": [
    "data_np = data.to_numpy()\n",
    "\n",
    "X = data_np[:, 1:]  # Features\n",
    "y = data_np[:, 0]   # Labels\n",
    "\n",
    "# Initialize and fit KNN model\n",
    "knn = KNN(k = 5)\n",
    "knn.fit(X, y)\n",
    "\n",
    "# Test data\n",
    "X_test = np.array([\n",
    "    [3, 0, 25.0, 0, 0, 7.05],\n",
    "    [1, 1, 17.0, 2, 2, 30.0],\n",
    "    [1, 1, 12.0, 0, 0, 125.0]\n",
    "])\n",
    "\n",
    "# Predictions\n",
    "predictions = knn.predict(X_test)\n",
    "print(\"Predictions:\")\n",
    "for i, pred in enumerate(predictions):\n",
    "    print(\"Sample:\", X_test[i])\n",
    "    print(\"Result: Survived\" if pred == 1 else \"Result: Died X(\")"
   ]
  },
  {
   "cell_type": "code",
   "execution_count": null,
   "metadata": {},
   "outputs": [],
   "source": [
    "import matplotlib.pyplot as plt\n",
    "\n",
    "# Plotting the test data points with their predicted labels\n",
    "plt.figure(figsize=(8, 6))\n",
    "\n",
    "# Plot the data points\n",
    "for i, point in enumerate(X_test):\n",
    "    if predictions[i] == 1:\n",
    "        plt.scatter(point[0], point[2], color='green', marker='o', label='Survived')\n",
    "    else:\n",
    "        plt.scatter(point[0], point[2], color='red', marker='x', label='Died')\n",
    "\n",
    "# Add labels and legend\n",
    "plt.xlabel('Pclass')\n",
    "plt.ylabel('Age')\n",
    "plt.title('KNN Predictions')\n",
    "plt.legend()\n",
    "\n",
    "# Show plot\n",
    "plt.show()\n"
   ]
  }
 ],
 "metadata": {
  "kernelspec": {
   "display_name": "Python 3",
   "language": "python",
   "name": "python3"
  },
  "language_info": {
   "codemirror_mode": {
    "name": "ipython",
    "version": 3
   },
   "file_extension": ".py",
   "mimetype": "text/x-python",
   "name": "python",
   "nbconvert_exporter": "python",
   "pygments_lexer": "ipython3",
   "version": "3.11.7"
  }
 },
 "nbformat": 4,
 "nbformat_minor": 2
}
